{
 "cells": [
  {
   "cell_type": "markdown",
   "metadata": {
    "application/vnd.databricks.v1+cell": {
     "cellMetadata": {},
     "inputWidgets": {},
     "nuid": "505bd526-b818-4fad-82db-2b9bb71194e2",
     "showTitle": false,
     "tableResultSettingsMap": {},
     "title": ""
    }
   },
   "source": [
    "# Bronze"
   ]
  },
  {
   "cell_type": "code",
   "execution_count": 0,
   "metadata": {
    "application/vnd.databricks.v1+cell": {
     "cellMetadata": {
      "byteLimit": 2048000,
      "rowLimit": 10000
     },
     "inputWidgets": {},
     "nuid": "bc1d20bf-1347-47cf-898b-ff19844ccb44",
     "showTitle": false,
     "tableResultSettingsMap": {},
     "title": ""
    }
   },
   "outputs": [],
   "source": [
    "from pyspark.sql.types import StructType, StructField, IntegerType, StringType, DoubleType, BooleanType, TimestampType\n",
    "\n",
    "def create_bronze_table(schema,tablename,path):\n",
    "    df = spark.read.schema(schema).json(path)\n",
    "    df.write.mode(\"overwrite\").saveAsTable(\"testing.product_catalog.bronze_{tablename}\".format(tablename=tablename))"
   ]
  },
  {
   "cell_type": "markdown",
   "metadata": {
    "application/vnd.databricks.v1+cell": {
     "cellMetadata": {},
     "inputWidgets": {},
     "nuid": "4e9d3fd1-ae1b-43ae-a1ed-3eae9103da25",
     "showTitle": false,
     "tableResultSettingsMap": {},
     "title": ""
    }
   },
   "source": [
    "## Category Tree"
   ]
  },
  {
   "cell_type": "code",
   "execution_count": 0,
   "metadata": {
    "application/vnd.databricks.v1+cell": {
     "cellMetadata": {
      "byteLimit": 2048000,
      "rowLimit": 10000
     },
     "inputWidgets": {},
     "nuid": "8caa272f-64a6-4adc-ad49-48f4ece055f0",
     "showTitle": false,
     "tableResultSettingsMap": {},
     "title": ""
    }
   },
   "outputs": [],
   "source": [
    "schema = StructType([\n",
    "    StructField(\"id\", IntegerType(), True),\n",
    "    StructField(\"name\", StringType(), True)\n",
    "])\n",
    "path=\"/Volumes/testing/product_catalog/raw_files/Category_tree.json\"\n",
    "table=\"category_tree\"\n",
    "create_bronze_table(schema,table,path)"
   ]
  },
  {
   "cell_type": "markdown",
   "metadata": {
    "application/vnd.databricks.v1+cell": {
     "cellMetadata": {},
     "inputWidgets": {},
     "nuid": "87a08810-58cc-457f-8a69-19cf04cbe8f1",
     "showTitle": false,
     "tableResultSettingsMap": {},
     "title": ""
    }
   },
   "source": [
    "## Category"
   ]
  },
  {
   "cell_type": "code",
   "execution_count": 0,
   "metadata": {
    "application/vnd.databricks.v1+cell": {
     "cellMetadata": {
      "byteLimit": 2048000,
      "rowLimit": 10000
     },
     "inputWidgets": {},
     "nuid": "be64749b-6190-4365-93a4-c97cc37d6ce5",
     "showTitle": false,
     "tableResultSettingsMap": {},
     "title": ""
    }
   },
   "outputs": [],
   "source": [
    "category_schema = StructType([\n",
    "    StructField(\"category_id\", IntegerType(), True),\n",
    "    StructField(\"tree_id\", IntegerType(), True),\n",
    "    StructField(\"parent_id\", IntegerType(), True), \n",
    "    StructField(\"name\", StringType(), True),\n",
    "    StructField(\"description\", StringType(), True),\n",
    "    StructField(\"search_keywords\", StringType(), True)\n",
    "])\n",
    "path=\"/Volumes/testing/product_catalog/raw_files/Category.json\"\n",
    "table=\"category\"\n",
    "create_bronze_table(category_schema,table,path)"
   ]
  },
  {
   "cell_type": "markdown",
   "metadata": {
    "application/vnd.databricks.v1+cell": {
     "cellMetadata": {},
     "inputWidgets": {},
     "nuid": "0098393f-60ea-4d87-96d5-4ddda3dbea6a",
     "showTitle": false,
     "tableResultSettingsMap": {},
     "title": ""
    }
   },
   "source": [
    "## Brand"
   ]
  },
  {
   "cell_type": "code",
   "execution_count": 0,
   "metadata": {
    "application/vnd.databricks.v1+cell": {
     "cellMetadata": {
      "byteLimit": 2048000,
      "rowLimit": 10000
     },
     "inputWidgets": {},
     "nuid": "00abba64-7af1-46f7-8338-43622bed1663",
     "showTitle": false,
     "tableResultSettingsMap": {},
     "title": ""
    }
   },
   "outputs": [],
   "source": [
    "brand_schema = StructType([\n",
    "    StructField(\"id\", IntegerType(), True),\n",
    "    StructField(\"name\", StringType(), True),\n",
    "    StructField(\"description\", StringType(), True)\n",
    "])\n",
    "path=\"/Volumes/testing/product_catalog/raw_files/Brand.json\"\n",
    "table=\"brand\"\n",
    "create_bronze_table(brand_schema,table,path)"
   ]
  },
  {
   "cell_type": "markdown",
   "metadata": {
    "application/vnd.databricks.v1+cell": {
     "cellMetadata": {},
     "inputWidgets": {},
     "nuid": "9a25329a-a6cb-42de-b8be-5cbc1637ece4",
     "showTitle": false,
     "tableResultSettingsMap": {},
     "title": ""
    }
   },
   "source": [
    "## Product"
   ]
  },
  {
   "cell_type": "code",
   "execution_count": 0,
   "metadata": {
    "application/vnd.databricks.v1+cell": {
     "cellMetadata": {
      "byteLimit": 2048000,
      "rowLimit": 10000
     },
     "inputWidgets": {},
     "nuid": "bb846514-cb55-4e51-b9a3-fdbad63c933c",
     "showTitle": false,
     "tableResultSettingsMap": {},
     "title": ""
    }
   },
   "outputs": [],
   "source": [
    "product_schema = StructType([\n",
    "    StructField(\"id\", IntegerType(), True),\n",
    "    StructField(\"name\", StringType(), True),\n",
    "    StructField(\"type\", StringType(), True),\n",
    "    StructField(\"sku\", StringType(), True),\n",
    "    StructField(\"description\", StringType(), True),\n",
    "    StructField(\"weight\", DoubleType(), True),\n",
    "    StructField(\"width\", DoubleType(), True),\n",
    "    StructField(\"depth\", DoubleType(), True),\n",
    "    StructField(\"height\", DoubleType(), True),\n",
    "    StructField(\"price\", DoubleType(), True),\n",
    "    StructField(\"cost_price\", DoubleType(), True),\n",
    "    StructField(\"retail_price\", DoubleType(), True),\n",
    "    StructField(\"sale_price\", DoubleType(), True),\n",
    "    StructField(\"category_id\", IntegerType(), True),\n",
    "    StructField(\"brand_id\", IntegerType(), True),\n",
    "    StructField(\"fixed_cost_shipping_price\", DoubleType(), True),\n",
    "    StructField(\"is_free_shipping\", BooleanType(), True),\n",
    "    StructField(\"upc\", StringType(), True),\n",
    "    StructField(\"search_keywords\", StringType(), True),\n",
    "    StructField(\"availability\", StringType(), True),\n",
    "    StructField(\"sort_order\", IntegerType(), True),\n",
    "    StructField(\"order_quantity_minimum\", IntegerType(), True),\n",
    "    StructField(\"order_quantity_maximum\", IntegerType(), True),\n",
    "    StructField(\"gtin\", StringType(), True),\n",
    "    StructField(\"mpn\", StringType(), True),\n",
    "    StructField(\"reviews_rating_sum\", IntegerType(), True),\n",
    "    StructField(\"reviews_count\", IntegerType(), True),\n",
    "    StructField(\"total_sold\", IntegerType(), True),\n",
    "    StructField(\"date_created\", TimestampType(), True),\n",
    "    StructField(\"date_modified\", TimestampType(), True)\n",
    "])\n",
    "path=\"/Volumes/testing/product_catalog/raw_files/Product.json\"\n",
    "table=\"product\"\n",
    "create_bronze_table(product_schema,table,path)"
   ]
  },
  {
   "cell_type": "markdown",
   "metadata": {
    "application/vnd.databricks.v1+cell": {
     "cellMetadata": {},
     "inputWidgets": {},
     "nuid": "08ead3d1-aeb5-4ba4-ba55-436e58e188dc",
     "showTitle": false,
     "tableResultSettingsMap": {},
     "title": ""
    }
   },
   "source": [
    "## Product variant"
   ]
  },
  {
   "cell_type": "code",
   "execution_count": 0,
   "metadata": {
    "application/vnd.databricks.v1+cell": {
     "cellMetadata": {
      "byteLimit": 2048000,
      "rowLimit": 10000
     },
     "inputWidgets": {},
     "nuid": "cc3d0d98-ff94-423f-8916-a14ac83d210d",
     "showTitle": false,
     "tableResultSettingsMap": {},
     "title": ""
    }
   },
   "outputs": [],
   "source": [
    "sku_schema = StructType([\n",
    "    StructField(\"id\", IntegerType(), True),\n",
    "    StructField(\"product_id\", IntegerType(), True),\n",
    "    StructField(\"sku\", StringType(), True),\n",
    "    StructField(\"sku_id\", IntegerType(), True),\n",
    "    StructField(\"cost_price\", DoubleType(), True),\n",
    "    StructField(\"price\", DoubleType(), True),\n",
    "    StructField(\"sale_price\", DoubleType(), True),\n",
    "    StructField(\"retail_price\", DoubleType(), True),\n",
    "    StructField(\"weight\", DoubleType(), True),\n",
    "    StructField(\"width\", DoubleType(), True),\n",
    "    StructField(\"height\", DoubleType(), True),\n",
    "    StructField(\"depth\", DoubleType(), True),\n",
    "    StructField(\"is_free_shipping\", BooleanType(), True),\n",
    "    StructField(\"upc\", StringType(), True),\n",
    "    StructField(\"mpn\", StringType(), True),\n",
    "    StructField(\"gtin\", StringType(), True)\n",
    "])\n",
    "path=\"/Volumes/testing/product_catalog/raw_files/Product_Variant.json\"\n",
    "table=\"product_variant\"\n",
    "create_bronze_table(sku_schema,table,path)"
   ]
  },
  {
   "cell_type": "markdown",
   "metadata": {
    "application/vnd.databricks.v1+cell": {
     "cellMetadata": {},
     "inputWidgets": {},
     "nuid": "73312c0e-ffb2-4d05-a645-5834084f0c7c",
     "showTitle": false,
     "tableResultSettingsMap": {},
     "title": ""
    }
   },
   "source": [
    "# silver"
   ]
  },
  {
   "cell_type": "markdown",
   "metadata": {
    "application/vnd.databricks.v1+cell": {
     "cellMetadata": {},
     "inputWidgets": {},
     "nuid": "c80afa40-1a97-4c01-96db-3790b7fc7e93",
     "showTitle": false,
     "tableResultSettingsMap": {},
     "title": ""
    }
   },
   "source": [
    "## Category tree"
   ]
  },
  {
   "cell_type": "code",
   "execution_count": 0,
   "metadata": {
    "application/vnd.databricks.v1+cell": {
     "cellMetadata": {
      "byteLimit": 2048000,
      "rowLimit": 10000
     },
     "inputWidgets": {},
     "nuid": "17e3ee29-7e0d-4977-b0ca-0f1f68aeb05d",
     "showTitle": false,
     "tableResultSettingsMap": {},
     "title": ""
    }
   },
   "outputs": [],
   "source": [
    "df=spark.table(\"testing.product_catalog.bronze_category_tree\")\n",
    "df.show()"
   ]
  },
  {
   "cell_type": "code",
   "execution_count": 0,
   "metadata": {
    "application/vnd.databricks.v1+cell": {
     "cellMetadata": {
      "byteLimit": 2048000,
      "implicitDf": true,
      "rowLimit": 10000
     },
     "inputWidgets": {},
     "nuid": "8cc02d38-879e-4bfa-9b41-90a724cb3458",
     "showTitle": false,
     "tableResultSettingsMap": {},
     "title": ""
    },
    "jupyter": {
     "outputs_hidden": true
    }
   },
   "outputs": [],
   "source": [
    "%sql\n",
    "create table if not exists testing.product_catalog.silver_category_tree (\n",
    "SELECT \n",
    "  concat('CT', CAST(id AS STRING)) AS id,\n",
    "  REPLACE(\n",
    "    REGEXP_REPLACE(\n",
    "      REPLACE(name, '&', ''),\n",
    "      r'\\s+',\n",
    "      ' '\n",
    "    ), \n",
    "  ' ', '_') AS name\n",
    "FROM testing.product_catalog.bronze_category_tree\n",
    ")"
   ]
  },
  {
   "cell_type": "markdown",
   "metadata": {
    "application/vnd.databricks.v1+cell": {
     "cellMetadata": {},
     "inputWidgets": {},
     "nuid": "3fb23c47-9ff9-4c00-a4a6-1360cc8e214f",
     "showTitle": false,
     "tableResultSettingsMap": {},
     "title": ""
    }
   },
   "source": [
    "## Category"
   ]
  },
  {
   "cell_type": "code",
   "execution_count": 0,
   "metadata": {
    "application/vnd.databricks.v1+cell": {
     "cellMetadata": {
      "byteLimit": 2048000,
      "rowLimit": 10000
     },
     "inputWidgets": {},
     "nuid": "dc449c05-ec26-4f2f-832a-2e286abdb7ee",
     "showTitle": false,
     "tableResultSettingsMap": {},
     "title": ""
    }
   },
   "outputs": [],
   "source": [
    "df=spark.table(\"testing.product_catalog.bronze_category\")\n",
    "df.show()"
   ]
  },
  {
   "cell_type": "code",
   "execution_count": 0,
   "metadata": {
    "application/vnd.databricks.v1+cell": {
     "cellMetadata": {
      "byteLimit": 2048000,
      "implicitDf": true,
      "rowLimit": 10000
     },
     "inputWidgets": {},
     "nuid": "b4faab11-9a8a-452a-99de-152a0ac76f86",
     "showTitle": false,
     "tableResultSettingsMap": {},
     "title": ""
    },
    "jupyter": {
     "outputs_hidden": true
    }
   },
   "outputs": [],
   "source": [
    "%sql\n",
    "create table if not exists testing.product_catalog.silver_category (\n",
    "SELECT concat('C', CAST(category_id AS STRING)) AS category_id,\n",
    "       concat('CT', CAST(tree_id AS STRING)) AS tree_id,\n",
    "       concat('C', CAST(parent_id AS STRING)) AS parent_id,\n",
    "       name,\n",
    "       description,\n",
    "       search_keywords\n",
    "FROM testing.product_catalog.bronze_category\n",
    ")"
   ]
  },
  {
   "cell_type": "markdown",
   "metadata": {
    "application/vnd.databricks.v1+cell": {
     "cellMetadata": {},
     "inputWidgets": {},
     "nuid": "088d3c30-f513-4115-8b1d-c30616c75da3",
     "showTitle": false,
     "tableResultSettingsMap": {},
     "title": ""
    }
   },
   "source": [
    "## Brand"
   ]
  },
  {
   "cell_type": "code",
   "execution_count": 0,
   "metadata": {
    "application/vnd.databricks.v1+cell": {
     "cellMetadata": {
      "byteLimit": 2048000,
      "rowLimit": 10000
     },
     "inputWidgets": {},
     "nuid": "dfd931c4-16c8-47aa-ba1a-af36e0fbe629",
     "showTitle": false,
     "tableResultSettingsMap": {},
     "title": ""
    }
   },
   "outputs": [],
   "source": [
    "df=spark.table(\"testing.product_catalog.bronze_brand\")\n",
    "df.show()"
   ]
  },
  {
   "cell_type": "code",
   "execution_count": 0,
   "metadata": {
    "application/vnd.databricks.v1+cell": {
     "cellMetadata": {
      "byteLimit": 2048000,
      "implicitDf": true,
      "rowLimit": 10000
     },
     "inputWidgets": {},
     "nuid": "bf5670e1-c677-460c-adf7-ed6ae324cc98",
     "showTitle": false,
     "tableResultSettingsMap": {},
     "title": ""
    },
    "jupyter": {
     "outputs_hidden": true
    }
   },
   "outputs": [],
   "source": [
    "%sql\n",
    "create table if not exists  testing.product_catalog.silver_brand (\n",
    "SELECT concat('B', CAST(id AS STRING)) AS brand_id,\n",
    "       name,\n",
    "       description\n",
    "FROM testing.product_catalog.bronze_brand\n",
    ")"
   ]
  },
  {
   "cell_type": "markdown",
   "metadata": {
    "application/vnd.databricks.v1+cell": {
     "cellMetadata": {},
     "inputWidgets": {},
     "nuid": "60af0679-b57b-4be3-8288-f6a41c3b8264",
     "showTitle": false,
     "tableResultSettingsMap": {},
     "title": ""
    }
   },
   "source": [
    "## Product"
   ]
  },
  {
   "cell_type": "code",
   "execution_count": 0,
   "metadata": {
    "application/vnd.databricks.v1+cell": {
     "cellMetadata": {
      "byteLimit": 2048000,
      "rowLimit": 10000
     },
     "inputWidgets": {},
     "nuid": "3c5e019b-53fe-4ded-9fe5-be077a9fcbac",
     "showTitle": false,
     "tableResultSettingsMap": {},
     "title": ""
    }
   },
   "outputs": [],
   "source": [
    "df=spark.table(\"testing.product_catalog.bronze_product\")\n",
    "df.show(2)"
   ]
  },
  {
   "cell_type": "code",
   "execution_count": 0,
   "metadata": {
    "application/vnd.databricks.v1+cell": {
     "cellMetadata": {
      "byteLimit": 2048000,
      "implicitDf": true,
      "rowLimit": 10000
     },
     "inputWidgets": {},
     "nuid": "9dc7bd7f-37e8-4690-8915-f3abedd68449",
     "showTitle": false,
     "tableResultSettingsMap": {
      "0": {
       "dataGridStateBlob": "{\"version\":1,\"tableState\":{\"columnPinning\":{\"left\":[\"#row_number#\"],\"right\":[]},\"columnSizing\":{},\"columnVisibility\":{}},\"settings\":{\"columns\":{}},\"syncTimestamp\":1754497610778}",
       "filterBlob": null,
       "queryPlanFiltersBlob": null,
       "tableResultIndex": 0
      }
     },
     "title": ""
    }
   },
   "outputs": [],
   "source": [
    "%sql\n",
    "-- delete from testing.product_catalog.silver_product;\n",
    "create table if not exists testing.product_catalog.silver_product(\n",
    "select concat('P',cast(id as string)) as product_id,name,type,sku,description,weight,width,depth,height,price,cost_price,retail_price,sale_price,concat('C',cast(category_id as string)) as category_id,concat('B',cast(brand_id as string)) as brand_id,fixed_cost_shipping_price,is_free_shipping,upc,search_keywords,availability,sort_order,order_quantity_minimum,order_quantity_maximum,gtin,mpn,reviews_rating_sum,reviews_count,total_sold,date_created,date_modified from testing.product_catalog.bronze_product\n",
    ");"
   ]
  },
  {
   "cell_type": "markdown",
   "metadata": {
    "application/vnd.databricks.v1+cell": {
     "cellMetadata": {},
     "inputWidgets": {},
     "nuid": "91731a6e-e799-4e1e-8570-d31a935de4b9",
     "showTitle": false,
     "tableResultSettingsMap": {},
     "title": ""
    }
   },
   "source": [
    "## Product variant"
   ]
  },
  {
   "cell_type": "code",
   "execution_count": 0,
   "metadata": {
    "application/vnd.databricks.v1+cell": {
     "cellMetadata": {
      "byteLimit": 2048000,
      "rowLimit": 10000
     },
     "inputWidgets": {},
     "nuid": "0d20b77d-e627-4402-ae4f-1765a28f22e1",
     "showTitle": false,
     "tableResultSettingsMap": {},
     "title": ""
    },
    "jupyter": {
     "outputs_hidden": true
    }
   },
   "outputs": [],
   "source": [
    "df=spark.table(\"testing.product_catalog.bronze_product_variant\")\n",
    "df.show(2)"
   ]
  },
  {
   "cell_type": "code",
   "execution_count": 0,
   "metadata": {
    "application/vnd.databricks.v1+cell": {
     "cellMetadata": {
      "byteLimit": 2048000,
      "implicitDf": true,
      "rowLimit": 10000
     },
     "inputWidgets": {},
     "nuid": "a7be9159-ae15-4951-b45d-528bdfb6508e",
     "showTitle": false,
     "tableResultSettingsMap": {},
     "title": ""
    }
   },
   "outputs": [],
   "source": [
    "%sql\n",
    "create table if not exists testing.product_catalog.silver_product_variant(\n",
    "select concat('PV',cast(id as string)) as prod_var_id,concat('P',cast(product_id as string)) as product_id,sku,sku_id,cost_price,price,sale_price,retail_price,weight,width,height,depth,is_free_shipping,upc,mpn,gtin from testing.product_catalog.bronze_product_variant\n",
    ")"
   ]
  },
  {
   "cell_type": "code",
   "execution_count": 0,
   "metadata": {
    "application/vnd.databricks.v1+cell": {
     "cellMetadata": {
      "byteLimit": 2048000,
      "implicitDf": true,
      "rowLimit": 10000
     },
     "inputWidgets": {},
     "nuid": "8d8f299f-42d7-497f-8825-c2ac63907e26",
     "showTitle": false,
     "tableResultSettingsMap": {},
     "title": ""
    }
   },
   "outputs": [],
   "source": [
    "%sql\n",
    "select * from testing.product_catalog.silver_product_variant"
   ]
  }
 ],
 "metadata": {
  "application/vnd.databricks.v1+notebook": {
   "computePreferences": null,
   "dashboards": [],
   "environmentMetadata": {
    "base_environment": "",
    "environment_version": "2"
   },
   "inputWidgetPreferences": null,
   "language": "python",
   "notebookMetadata": {
    "mostRecentlyExecutedCommandWithImplicitDF": {
     "commandId": 5272754120577062,
     "dataframes": [
      "_sqldf"
     ]
    },
    "pythonIndentUnit": 4
   },
   "notebookName": "Product_catalog_cleaning",
   "widgets": {}
  },
  "language_info": {
   "name": "python"
  }
 },
 "nbformat": 4,
 "nbformat_minor": 0
}
