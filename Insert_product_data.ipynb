{
 "cells": [
  {
   "cell_type": "code",
   "execution_count": 0,
   "metadata": {
    "application/vnd.databricks.v1+cell": {
     "cellMetadata": {
      "byteLimit": 2048000,
      "rowLimit": 10000
     },
     "inputWidgets": {},
     "nuid": "d4e1f3f7-546b-4e21-8d00-f81fe88b32a0",
     "showTitle": false,
     "tableResultSettingsMap": {},
     "title": ""
    },
    "jupyter": {
     "outputs_hidden": true
    }
   },
   "outputs": [],
   "source": [
    "!pip install pystardog\n",
    "!pip install rdflib"
   ]
  },
  {
   "cell_type": "code",
   "execution_count": 0,
   "metadata": {
    "application/vnd.databricks.v1+cell": {
     "cellMetadata": {
      "byteLimit": 2048000,
      "rowLimit": 10000
     },
     "inputWidgets": {},
     "nuid": "ed0a88f8-f724-45e5-90e4-a78608fb84b2",
     "showTitle": false,
     "tableResultSettingsMap": {},
     "title": ""
    }
   },
   "outputs": [],
   "source": [
    "import json\n",
    "import rdflib\n",
    "from rdflib import Literal, Namespace\n",
    "from rdflib.namespace import RDF,RDFS,XSD\n",
    "import stardog\n",
    "from stardog.content import Raw\n",
    "from stardog.exceptions import StardogException\n",
    "from time import time"
   ]
  },
  {
   "cell_type": "code",
   "execution_count": 0,
   "metadata": {
    "application/vnd.databricks.v1+cell": {
     "cellMetadata": {
      "byteLimit": 2048000,
      "rowLimit": 10000
     },
     "inputWidgets": {},
     "nuid": "44874a58-cc8c-4d9c-87d7-63ffa4f4ea32",
     "showTitle": false,
     "tableResultSettingsMap": {},
     "title": ""
    }
   },
   "outputs": [],
   "source": [
    "start_time=time()\n",
    "with open(\"Stardog_Credentials.json\") as f:\n",
    "  config = json.load(f)\n",
    "\n",
    "endpoint = config['endpoint']\n",
    "username = config['username']\n",
    "password = config['password']\n",
    "db=config['Graph_database']\n",
    "ont_ns=config['Ontology_namespace']\n",
    "data_ns=config['Data_namespace']"
   ]
  },
  {
   "cell_type": "code",
   "execution_count": 0,
   "metadata": {
    "application/vnd.databricks.v1+cell": {
     "cellMetadata": {
      "byteLimit": 2048000,
      "rowLimit": 10000
     },
     "inputWidgets": {},
     "nuid": "e9e1d24f-11e0-4ecf-9a9d-347473f915e6",
     "showTitle": false,
     "tableResultSettingsMap": {},
     "title": ""
    }
   },
   "outputs": [],
   "source": [
    "# Namespaces\n",
    "ont = Namespace(ont_ns+'#')\n",
    "data = Namespace(data_ns+'#')\n",
    "\n",
    "connection_details = {\n",
    "    'endpoint': endpoint,\n",
    "    'username': username,\n",
    "    'password': password\n",
    "}"
   ]
  },
  {
   "cell_type": "code",
   "execution_count": 0,
   "metadata": {
    "application/vnd.databricks.v1+cell": {
     "cellMetadata": {
      "byteLimit": 2048000,
      "rowLimit": 10000
     },
     "inputWidgets": {},
     "nuid": "d0816487-ad2c-4c48-b6b2-5ce285ff8ec3",
     "showTitle": false,
     "tableResultSettingsMap": {},
     "title": ""
    }
   },
   "outputs": [],
   "source": [
    "def insert_data(graph):\n",
    "    with stardog.Connection(db, **connection_details) as conn:\n",
    "        print(\"Connection Successful.\")\n",
    "        ttl_data=graph.serialize(format='turtle')\n",
    "        # print(ttl_data)\n",
    "        conn.begin()\n",
    "        # print(data_ns)\n",
    "        conn.add(Raw(ttl_data, 'text/turtle'), graph_uri=data_ns)\n",
    "        conn.commit()\n",
    "        print(\"Data inserted successfully.\")"
   ]
  },
  {
   "cell_type": "markdown",
   "metadata": {
    "application/vnd.databricks.v1+cell": {
     "cellMetadata": {
      "byteLimit": 2048000,
      "rowLimit": 10000
     },
     "inputWidgets": {},
     "nuid": "7c8a6127-023d-417e-be7d-b3af95bd2e31",
     "showTitle": false,
     "tableResultSettingsMap": {},
     "title": ""
    }
   },
   "source": [
    "### category tree"
   ]
  },
  {
   "cell_type": "code",
   "execution_count": 0,
   "metadata": {
    "application/vnd.databricks.v1+cell": {
     "cellMetadata": {
      "byteLimit": 2048000,
      "rowLimit": 10000
     },
     "inputWidgets": {},
     "nuid": "0f37e445-a85e-431d-889a-874f218e14c4",
     "showTitle": false,
     "tableResultSettingsMap": {},
     "title": ""
    }
   },
   "outputs": [],
   "source": [
    "data_catagory = spark.table(\"{c}.{s}.silver_category_tree\".format(c=config['Spark_catalog'], s=config['Spark_Schema'])).collect() \n",
    "# print(data_catagory)\n",
    "print(data_catagory[0])\n",
    "\n",
    "g = rdflib.Graph()\n",
    "\n",
    "for i in data_catagory:\n",
    "    data_uri = data[f\"{i.id}\"]\n",
    "    g.add((data_uri, RDF.type, ont.CategoryTree))\n",
    "    g.add((data_uri, ont.categorytree_name, Literal(i.name, datatype=XSD.string)))\n",
    "    g.add((data_uri, RDFS.label, Literal(i.name, datatype=XSD.string)))\n",
    "\n",
    "# Serialize_debugging\n",
    "# print(g.serialize(format='turtle'))\n",
    "insert_data(g)   # Uncomment to insert data"
   ]
  },
  {
   "cell_type": "markdown",
   "metadata": {
    "application/vnd.databricks.v1+cell": {
     "cellMetadata": {
      "byteLimit": 2048000,
      "rowLimit": 10000
     },
     "inputWidgets": {},
     "nuid": "2cffa778-eb12-4eeb-9473-da02761eb3ac",
     "showTitle": false,
     "tableResultSettingsMap": {},
     "title": ""
    }
   },
   "source": [
    "### category"
   ]
  },
  {
   "cell_type": "code",
   "execution_count": 0,
   "metadata": {
    "application/vnd.databricks.v1+cell": {
     "cellMetadata": {
      "byteLimit": 2048000,
      "rowLimit": 10000
     },
     "inputWidgets": {},
     "nuid": "9d0a3193-a1f2-49d1-b514-2e6c4a563934",
     "showTitle": false,
     "tableResultSettingsMap": {},
     "title": ""
    }
   },
   "outputs": [],
   "source": [
    "data_catagory = spark.table(\"{c}.{s}.silver_category\".format(c=config['Spark_catalog'], s=config['Spark_Schema'])).collect() \n",
    "# print(data_catagory)\n",
    "print(data_catagory[0])\n",
    "g = rdflib.Graph()\n",
    "for i in data_catagory:\n",
    "    # print(i)\n",
    "    data_uri = data[f\"{i.category_id}\"]\n",
    "    g.add((data_uri, RDF.type, ont.Category))\n",
    "    if(i.parent_id==None):\n",
    "        parent_uri = data[f\"{i.tree_id}\"]\n",
    "        g.add((data_uri, ont.hasparentcategoryintree, parent_uri))\n",
    "    else:\n",
    "        parent_uri = data[f\"{i.parent_id}\"]\n",
    "        g.add((data_uri, ont.hasparentcategory, parent_uri))\n",
    "    # print(i.tree_id,i.parent_id)\n",
    "    g.add((data_uri, ont.category_name, Literal(i.name, datatype=XSD.string)))\n",
    "    g.add((data_uri, ont.description_category, Literal(i.description, datatype=XSD.string)))\n",
    "    g.add((data_uri, ont.search_keywords_category, Literal(i.search_keywords, datatype=XSD.string)))\n",
    "    g.add((data_uri, RDFS.label, Literal(i.name, datatype=XSD.string)))\n",
    "\n",
    "\n",
    "# Serialize_debugging\n",
    "# print(g.serialize(format='turtle'))\n",
    "insert_data(g)   # Uncomment to insert data"
   ]
  },
  {
   "cell_type": "markdown",
   "metadata": {
    "application/vnd.databricks.v1+cell": {
     "cellMetadata": {
      "byteLimit": 2048000,
      "rowLimit": 10000
     },
     "inputWidgets": {},
     "nuid": "df15259b-9d44-4e03-b2da-9a6b91c17821",
     "showTitle": false,
     "tableResultSettingsMap": {},
     "title": ""
    }
   },
   "source": [
    "### Brand"
   ]
  },
  {
   "cell_type": "code",
   "execution_count": 0,
   "metadata": {
    "application/vnd.databricks.v1+cell": {
     "cellMetadata": {
      "byteLimit": 2048000,
      "rowLimit": 10000
     },
     "inputWidgets": {},
     "nuid": "ee0e6a3c-7cd4-40e6-9184-3cb65a68ce4a",
     "showTitle": false,
     "tableResultSettingsMap": {},
     "title": ""
    },
    "jupyter": {
     "outputs_hidden": true
    }
   },
   "outputs": [],
   "source": [
    "data_brand = spark.table(\"{c}.{s}.silver_brand\".format(c=config['Spark_catalog'], s=config['Spark_Schema'])).collect() \n",
    "# print(data_catagory)\n",
    "print(data_brand[0])\n",
    "g = rdflib.Graph()\n",
    "for i in data_brand:\n",
    "    # print(i)\n",
    "    data_uri = data[f\"{i.brand_id}\"]\n",
    "    g.add((data_uri, RDF.type, ont.Brand))\n",
    "    g.add((data_uri, ont.brand_name, Literal(i.name, datatype=XSD.string)))\n",
    "    g.add((data_uri, ont.description_brand, Literal(i.description, datatype=XSD.string)))\n",
    "    g.add((data_uri, RDFS.label, Literal(i.name, datatype=XSD.string)))\n",
    "\n",
    "# Serialize_debugging\n",
    "# print(g.serialize(format='turtle'))\n",
    "insert_data(g)   # Uncomment to insert data"
   ]
  },
  {
   "cell_type": "markdown",
   "metadata": {
    "application/vnd.databricks.v1+cell": {
     "cellMetadata": {
      "byteLimit": 2048000,
      "rowLimit": 10000
     },
     "inputWidgets": {},
     "nuid": "7824656e-1e07-4751-9097-b36666c23d6f",
     "showTitle": false,
     "tableResultSettingsMap": {},
     "title": ""
    }
   },
   "source": [
    "### Product"
   ]
  },
  {
   "cell_type": "code",
   "execution_count": 0,
   "metadata": {
    "application/vnd.databricks.v1+cell": {
     "cellMetadata": {
      "byteLimit": 2048000,
      "rowLimit": 10000
     },
     "inputWidgets": {},
     "nuid": "163b2a66-b320-490a-bb24-bdcf963e5349",
     "showTitle": false,
     "tableResultSettingsMap": {},
     "title": ""
    }
   },
   "outputs": [],
   "source": [
    "data_prod = spark.table(\"{c}.{s}.silver_product\".format(c=config['Spark_catalog'], s=config['Spark_Schema'])).collect() \n",
    "# print(data_catagory)\n",
    "print(data_prod[0])\n",
    "g = rdflib.Graph()\n",
    "for i in data_prod:\n",
    "    data_uri = data[f\"{i.product_id}\"]\n",
    "    g.add((data_uri, RDF.type, ont.Product))\n",
    "    g.add((data_uri, ont.product_name, Literal(i.name, datatype=XSD.string)))\n",
    "    g.add((data_uri, ont.description_product, Literal(i.description, datatype=XSD.string)))\n",
    "    g.add((data_uri, ont.type, Literal(i.type, datatype=XSD.string)))\n",
    "    g.add((data_uri, ont.sku, Literal(i.sku, datatype=XSD.string)))\n",
    "    g.add((data_uri, ont.fixed_cost_shipping_price, Literal(i.fixed_cost_shipping_price, datatype=XSD.decimal)))\n",
    "    g.add((data_uri, ont.is_free_shipping_product, Literal(i.is_free_shipping, datatype=XSD.boolean)))\n",
    "    g.add((data_uri, ont.upc_product, Literal(i.upc, datatype=XSD.string)))\n",
    "    g.add((data_uri, ont.search_keywords_product, Literal(i.search_keywords, datatype=XSD.string)))\n",
    "    g.add((data_uri, ont.availability, Literal(i.availability, datatype=XSD.string)))\n",
    "    g.add((data_uri, ont.sort_order, Literal(i.sort_order, datatype=XSD.integer)))\n",
    "    g.add((data_uri, ont.order_quantity_minimum, Literal(i.order_quantity_minimum, datatype=XSD.integer)))\n",
    "    g.add((data_uri, ont.order_quantity_maximum, Literal(i.order_quantity_maximum, datatype=XSD.integer)))\n",
    "    g.add((data_uri, ont.gtin_product, Literal(i.gtin, datatype=XSD.string)))\n",
    "    g.add((data_uri, ont.mpn_product, Literal(i.mpn, datatype=XSD.string)))\n",
    "    g.add((data_uri, ont.reviews_rating_sum, Literal(i.reviews_rating_sum, datatype=XSD.integer)))\n",
    "    g.add((data_uri, ont.reviews_count, Literal(i.reviews_count, datatype=XSD.integer)))\n",
    "    g.add((data_uri, ont.total_sold, Literal(i.total_sold, datatype=XSD.integer)))\n",
    "    g.add((data_uri, ont.date_created, Literal(i.date_created.isoformat(), datatype=XSD.dateTime)))\n",
    "    g.add((data_uri, ont.date_modified, Literal(i.date_modified.isoformat(), datatype=XSD.dateTime)))\n",
    "\n",
    "    # Dimensions\n",
    "    g.add((data_uri, ont.weight_product, Literal(i.weight, datatype=XSD.decimal)))\n",
    "    g.add((data_uri, ont.width_product, Literal(i.width, datatype=XSD.decimal)))\n",
    "    g.add((data_uri, ont.depth_product, Literal(i.depth, datatype=XSD.decimal)))\n",
    "    g.add((data_uri, ont.height_product, Literal(i.height, datatype=XSD.decimal)))\n",
    "\n",
    "    # Price-related literals\n",
    "    g.add((data_uri, ont.price_product, Literal(i.price, datatype=XSD.decimal)))\n",
    "    g.add((data_uri, ont.cost_price_product, Literal(i.cost_price, datatype=XSD.decimal)))\n",
    "    g.add((data_uri, ont.retail_price_product, Literal(i.retail_price, datatype=XSD.decimal)))\n",
    "    g.add((data_uri, ont.sale_price_product, Literal(i.sale_price, datatype=XSD.decimal)))\n",
    "\n",
    "    # Relationships to category and brand\n",
    "    category_uri = data[f\"{i.category_id}\"]\n",
    "    brand_uri = data[f\"{i.brand_id}\"]\n",
    "    g.add((data_uri, ont.belongsto, category_uri))\n",
    "    g.add((data_uri, ont.producedby, brand_uri))\n",
    "\n",
    "    g.add((data_uri, RDFS.label, Literal(i.name, datatype=XSD.string)))\n",
    "\n",
    "# Serialize for debugging\n",
    "# print(g.serialize(format='turtle'))\n",
    "\n",
    "insert_data(g)   # Uncomment to insert data"
   ]
  },
  {
   "cell_type": "markdown",
   "metadata": {
    "application/vnd.databricks.v1+cell": {
     "cellMetadata": {
      "byteLimit": 2048000,
      "rowLimit": 10000
     },
     "inputWidgets": {},
     "nuid": "6fd1b3ba-b84f-4ea0-b0be-41ff8975f2fb",
     "showTitle": false,
     "tableResultSettingsMap": {},
     "title": ""
    }
   },
   "source": [
    "### Product Variant"
   ]
  },
  {
   "cell_type": "code",
   "execution_count": 0,
   "metadata": {
    "application/vnd.databricks.v1+cell": {
     "cellMetadata": {
      "byteLimit": 2048000,
      "rowLimit": 10000
     },
     "inputWidgets": {},
     "nuid": "39c025fe-cf6d-40a7-a2f5-f882ab4813b1",
     "showTitle": false,
     "tableResultSettingsMap": {},
     "title": ""
    }
   },
   "outputs": [],
   "source": [
    "data_prod_var = spark.table(\"{c}.{s}.silver_product_variant\".format(c=config['Spark_catalog'], s=config['Spark_Schema'])).collect() \n",
    "# print(data_catagory)\n",
    "print(data_prod_var[0])\n",
    "g = rdflib.Graph()\n",
    "\n",
    "for pv in data_prod_var:\n",
    "    variant_uri = data[f\"{pv.prod_var_id}\"]\n",
    "    product_uri = data[f\"{pv.product_id}\"]\n",
    "    \n",
    "    g.add((variant_uri, RDF.type, ont.ProductVariant))\n",
    "    g.add((variant_uri, ont.sku_variant, Literal(pv.sku, datatype=XSD.string)))\n",
    "    g.add((variant_uri, ont.sku_id, Literal(pv.sku_id, datatype=XSD.integer)))\n",
    "    g.add((variant_uri, ont.cost_price_variant, Literal(pv.cost_price, datatype=XSD.decimal)))\n",
    "    g.add((variant_uri, ont.price_variant, Literal(pv.price, datatype=XSD.decimal)))\n",
    "    g.add((variant_uri, ont.sale_price_variant, Literal(pv.sale_price, datatype=XSD.decimal)))\n",
    "    g.add((variant_uri, ont.retail_price_variant, Literal(pv.retail_price, datatype=XSD.decimal)))\n",
    "    g.add((variant_uri, ont.weight_variant, Literal(pv.weight, datatype=XSD.decimal)))\n",
    "    g.add((variant_uri, ont.width_variant, Literal(pv.width, datatype=XSD.decimal)))\n",
    "    g.add((variant_uri, ont.height_variant, Literal(pv.height, datatype=XSD.decimal)))\n",
    "    g.add((variant_uri, ont.depth_variant, Literal(pv.depth, datatype=XSD.decimal)))\n",
    "    g.add((variant_uri, ont.is_free_shipping_variant, Literal(pv.is_free_shipping, datatype=XSD.boolean)))\n",
    "    g.add((variant_uri, ont.upc_variant, Literal(pv.upc, datatype=XSD.string)))\n",
    "    g.add((variant_uri, ont.mpn_variant, Literal(pv.mpn, datatype=XSD.string)))\n",
    "    g.add((variant_uri, ont.gtin_variant, Literal(pv.gtin, datatype=XSD.string)))\n",
    "\n",
    "    g.add((variant_uri, RDFS.label, Literal(pv.sku, datatype=XSD.string)))\n",
    "\n",
    "    # Link variant to its product\n",
    "    g.add((variant_uri, ont.variantof, product_uri))\n",
    "\n",
    "# Serialize for debugging\n",
    "\n",
    "# print(g.serialize(format='turtle'))\n",
    "insert_data(g)   # Uncomment to insert data"
   ]
  },
  {
   "cell_type": "code",
   "execution_count": 0,
   "metadata": {
    "application/vnd.databricks.v1+cell": {
     "cellMetadata": {
      "byteLimit": 2048000,
      "rowLimit": 10000
     },
     "inputWidgets": {},
     "nuid": "f1511d5c-0d76-4582-9db0-d0661d591f7a",
     "showTitle": false,
     "tableResultSettingsMap": {},
     "title": ""
    }
   },
   "outputs": [],
   "source": [
    "print(\"Time taken : \", time() - start_time)"
   ]
  }
 ],
 "metadata": {
  "application/vnd.databricks.v1+notebook": {
   "computePreferences": null,
   "dashboards": [],
   "environmentMetadata": {
    "base_environment": "",
    "environment_version": "2"
   },
   "inputWidgetPreferences": null,
   "language": "python",
   "notebookMetadata": {
    "pythonIndentUnit": 4
   },
   "notebookName": "Insert_product_data",
   "widgets": {}
  },
  "language_info": {
   "name": "python"
  }
 },
 "nbformat": 4,
 "nbformat_minor": 0
}
